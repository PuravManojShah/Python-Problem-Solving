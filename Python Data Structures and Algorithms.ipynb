{
 "cells": [
  {
   "cell_type": "markdown",
   "metadata": {},
   "source": [
    "#### RECURSION\n"
   ]
  },
  {
   "cell_type": "code",
   "execution_count": 17,
   "metadata": {},
   "outputs": [
    {
     "name": "stdout",
     "output_type": "stream",
     "text": [
      "9\n"
     ]
    }
   ],
   "source": [
    "def powNumber(x,n):\n",
    "    if n is 0:\n",
    "        return 1\n",
    "    smallOutput=powNumber(x,n-1)\n",
    "    return x*smallOutput\n",
    "print(powNumber(3,2))"
   ]
  },
  {
   "cell_type": "code",
   "execution_count": 21,
   "metadata": {},
   "outputs": [
    {
     "name": "stdout",
     "output_type": "stream",
     "text": [
      "6\n"
     ]
    }
   ],
   "source": [
    "def sumOfArray(arr,size):\n",
    "    if size is 0:\n",
    "        return 0\n",
    "    smallOutput=sumOfArray(arr[1:],size-1)\n",
    "    return arr[0]+smallOutput\n",
    "print(sumOfArray([1,2,3],3))"
   ]
  },
  {
   "cell_type": "code",
   "execution_count": 24,
   "metadata": {},
   "outputs": [
    {
     "name": "stdout",
     "output_type": "stream",
     "text": [
      "True\n"
     ]
    }
   ],
   "source": [
    "def checkNumber(arr,size,x):\n",
    "    if size is 0:\n",
    "        return False\n",
    "    if arr[0] == x:\n",
    "        return True\n",
    "    else:\n",
    "        return checkNumber(arr[1:],size-1,x)\n",
    "print(checkNumber([1,2,3],3,1))"
   ]
  },
  {
   "cell_type": "code",
   "execution_count": 29,
   "metadata": {},
   "outputs": [
    {
     "name": "stdout",
     "output_type": "stream",
     "text": [
      "0\n"
     ]
    }
   ],
   "source": [
    "def firstIndex(arr,size,x,index):\n",
    "    if size is 0 :\n",
    "        return -1\n",
    "    smallOutput=firstIndex(arr[1:],size-1,x,index+1)\n",
    "    if arr[0] == x:\n",
    "        return index\n",
    "    elif smallOutput!=-1:\n",
    "        return smallOutput\n",
    "    return -1\n",
    "print(firstIndex([1,2,3],3,1,0))"
   ]
  },
  {
   "cell_type": "code",
   "execution_count": 31,
   "metadata": {},
   "outputs": [
    {
     "name": "stdout",
     "output_type": "stream",
     "text": [
      "3\n"
     ]
    }
   ],
   "source": [
    "def lastIndex(arr,size,x):\n",
    "    if size is 0:\n",
    "        return -1\n",
    "    smallOutput=lastIndex(arr[1:],size-1,x)\n",
    "    if smallOutput!=-1:\n",
    "        return smallOutput+1\n",
    "    elif arr[0] == x:\n",
    "        return 0\n",
    "    return -1\n",
    "print(lastIndex([1,2,3,3],4,3))"
   ]
  },
  {
   "cell_type": "code",
   "execution_count": 36,
   "metadata": {},
   "outputs": [
    {
     "name": "stdout",
     "output_type": "stream",
     "text": [
      "ab\n"
     ]
    }
   ],
   "source": [
    "def removeX(string):\n",
    "    if len(string) is 0:\n",
    "        return ''\n",
    "    smallOutput=removeX(string[1:])\n",
    "    if string[0]=='x':\n",
    "        return smallOutput\n",
    "    else:\n",
    "        return string[0]+smallOutput\n",
    "    return\n",
    "string=\"xabx\"\n",
    "print(removeX(string))\n"
   ]
  },
  {
   "cell_type": "code",
   "execution_count": 23,
   "metadata": {},
   "outputs": [
    {
     "name": "stdout",
     "output_type": "stream",
     "text": [
      "abcdef\n"
     ]
    }
   ],
   "source": [
    "def removeDuplicates(string):\n",
    "    if len(string) is 0:\n",
    "        return ''\n",
    "    smallOutput=removeDuplicates(string[1:])\n",
    "    #print(smallOutput,string[0],len(string))\n",
    "    #print(string[0]==smallOutput[0])\n",
    "    if len(smallOutput)>0 and string[0]==smallOutput[0]:\n",
    "        return smallOutput\n",
    "    else:\n",
    "        return string[0]+smallOutput\n",
    "    \n",
    "print(removeDuplicates('aabbbbbbbccdddddeeeeeeef'))"
   ]
  },
  {
   "cell_type": "code",
   "execution_count": 30,
   "metadata": {},
   "outputs": [
    {
     "name": "stdout",
     "output_type": "stream",
     "text": [
      "False\n"
     ]
    }
   ],
   "source": [
    "def checkAB(string):\n",
    "    if len(string) is 0:\n",
    "        return True\n",
    "    if string[0]=='a':\n",
    "        if len(string)>1 and string[1]=='a':\n",
    "            return checkAB(string[1:])\n",
    "        elif len(string)>3 and string[1:3]=='bb':\n",
    "            return checkAB(string[3:])\n",
    "    return False\n",
    "print(checkAB(\"abc\"))"
   ]
  },
  {
   "cell_type": "code",
   "execution_count": 43,
   "metadata": {},
   "outputs": [
    {
     "name": "stdout",
     "output_type": "stream",
     "text": [
      "True\n",
      "\n",
      "\n",
      "False\n"
     ]
    }
   ],
   "source": [
    "def checkPalindrome(string):\n",
    "    if len(string)==0:\n",
    "        return True\n",
    "    smallOutput=checkPalindrome(string[1:len(string)-1])\n",
    "    #print(string,smallOutput)\n",
    "    if smallOutput is False:\n",
    "        return smallOutput\n",
    "    if string[0]==string[len(string)-1]:\n",
    "        return True\n",
    "    return False\n",
    "print(checkPalindrome(\"racecar\"))\n",
    "print()\n",
    "print()\n",
    "print(checkPalindrome(\"ninja\"))"
   ]
  },
  {
   "cell_type": "code",
   "execution_count": 47,
   "metadata": {},
   "outputs": [
    {
     "name": "stdout",
     "output_type": "stream",
     "text": [
      "15\n"
     ]
    }
   ],
   "source": [
    "def sumOfDigits(number):\n",
    "    if number is 0:\n",
    "        return 0\n",
    "    modulus=number%10\n",
    "    return modulus+sumOfDigits(number//10)\n",
    "print(sumOfDigits(12345))"
   ]
  },
  {
   "cell_type": "code",
   "execution_count": 48,
   "metadata": {},
   "outputs": [
    {
     "name": "stdout",
     "output_type": "stream",
     "text": [
      "15\n"
     ]
    }
   ],
   "source": [
    "def multiplication(x,n):\n",
    "    if n is 0:\n",
    "        return 0\n",
    "    smallOutput=multiplication(x,n-1)\n",
    "    return smallOutput+x\n",
    "print(multiplication(3,5))"
   ]
  },
  {
   "cell_type": "code",
   "execution_count": 51,
   "metadata": {},
   "outputs": [
    {
     "name": "stdout",
     "output_type": "stream",
     "text": [
      "4\n"
     ]
    }
   ],
   "source": [
    "def countZeros(number):\n",
    "    if number is 0:\n",
    "        return 0\n",
    "    modulus=number%10\n",
    "    if modulus is 0:\n",
    "        return 1+countZeros(number//10)\n",
    "    return countZeros(number//10)\n",
    "print(countZeros(104000))"
   ]
  },
  {
   "cell_type": "code",
   "execution_count": 57,
   "metadata": {},
   "outputs": [
    {
     "name": "stdout",
     "output_type": "stream",
     "text": [
      "274\n"
     ]
    }
   ],
   "source": [
    "def staircase(number):\n",
    "    if number is 0 or number is 1:\n",
    "        return 1\n",
    "    ans=staircase(number-1)\n",
    "    ans2,ans3=0,0\n",
    "    if (number-2)>=0:\n",
    "        ans1=staircase(number-2)\n",
    "    if (number-3)>=0:\n",
    "        ans2=staircase(number-3)\n",
    "    return ans+ans1+ans2\n",
    "print(staircase(10))"
   ]
  },
  {
   "cell_type": "code",
   "execution_count": 62,
   "metadata": {},
   "outputs": [
    {
     "name": "stdout",
     "output_type": "stream",
     "text": [
      "a*a*a*a\n"
     ]
    }
   ],
   "source": [
    "def pairStar(string):\n",
    "    if len(string) is 0:\n",
    "        return ''\n",
    "    smallOutput=pairStar(string[1:])\n",
    "    if len(string)>=2 and  string[0] == string[1]:\n",
    "        return string[0]+'*'+smallOutput\n",
    "    else :\n",
    "        return string[0]+smallOutput\n",
    "print(pairStar('aaaa'))\n",
    "    "
   ]
  },
  {
   "cell_type": "code",
   "execution_count": 70,
   "metadata": {},
   "outputs": [
    {
     "name": "stdout",
     "output_type": "stream",
     "text": [
      "1234\n"
     ]
    }
   ],
   "source": [
    "def stringToNumber(string):\n",
    "    if len(string) is 0:\n",
    "        return 0\n",
    "    smallOutput=stringToNumber(string[1:])\n",
    "    return int(string[0])*(10**(len(string)-1))+smallOutput\n",
    "print(stringToNumber('1234'))"
   ]
  },
  {
   "cell_type": "markdown",
   "metadata": {},
   "source": [
    "#### Linked list"
   ]
  },
  {
   "cell_type": "code",
   "execution_count": 73,
   "metadata": {},
   "outputs": [
    {
     "name": "stdout",
     "output_type": "stream",
     "text": [
      "1 2 3 4 5 -1\n",
      "1->2->3->4->5->None\n"
     ]
    }
   ],
   "source": [
    "class Node:\n",
    "    def __init__(self,data):\n",
    "        self.data=data\n",
    "        self.next=None\n",
    "def takeInput():\n",
    "    arr=[int(ele) for ele in input().split(' ')]\n",
    "    head,tail=None,None\n",
    "    for ele in arr:\n",
    "        newNode=Node(ele)\n",
    "        if (ele is -1):\n",
    "            break\n",
    "        if head is None:\n",
    "            head=newNode\n",
    "            tail=head\n",
    "        else:\n",
    "            tail.next=newNode\n",
    "            tail=newNode\n",
    "    return head\n",
    "def printLL(head):\n",
    "    while head is not None:\n",
    "        print(head.data,end='->')\n",
    "        head = head.next\n",
    "    print('None')\n",
    "    return\n",
    "def lengthLL(head):\n",
    "    count=0\n",
    "    while head is not None:\n",
    "        count+=1\n",
    "        head = head.next\n",
    "    return count\n",
    "def printNodeAtPositionX(head,x):\n",
    "    count=0\n",
    "    while head is not None:\n",
    "        if (count==x):\n",
    "            print(head.data)\n",
    "        count+=1\n",
    "        head=head.next\n",
    "    return\n",
    "def deleteNode(head,x):\n",
    "    count=0\n",
    "    curr,prev=head,None\n",
    "    while curr is not None:\n",
    "        #print(curr.data)\n",
    "        if (count==x):\n",
    "            if prev is None:\n",
    "                head=curr.next\n",
    "                return head\n",
    "            else:\n",
    "                #print(prev.data,curr.next.data)\n",
    "                prev.next=curr.next\n",
    "                return head\n",
    "        count+=1\n",
    "        prev=curr\n",
    "        curr=curr.next\n",
    "    return head\n",
    "def lengthRecursively(head):\n",
    "    if (head is None):\n",
    "        return 0\n",
    "    smallLength=lengthRecursively(head.next)\n",
    "    return 1+smallLength\n",
    "def deleteNodeRecursively(head,count,x):\n",
    "    if head is None:\n",
    "        return head\n",
    "    smallListHead=deleteNodeRecursively(head.next,count+1,x)\n",
    "    head.next=smallListHead\n",
    "    if (count==x):\n",
    "        return smallListHead\n",
    "    return head\n",
    "def findElement(head,x):\n",
    "    count=0\n",
    "    while head is not None:\n",
    "        if (head.data == x):\n",
    "            print(count)\n",
    "            return\n",
    "        count+=1\n",
    "        head=head.next\n",
    "    print( -1)\n",
    "    return\n",
    "def lastNtoFirst(head,n):\n",
    "    i=0\n",
    "    tail=head\n",
    "    while tail.next is not None:\n",
    "        tail=tail.next\n",
    "    newHead=head\n",
    "    newTail=None\n",
    "    while(i<n-1):\n",
    "        newTail=newHead\n",
    "        newHead=newHead.next\n",
    "        i+=1\n",
    "    newTail.next=None\n",
    "    tail.next=head\n",
    "    return newHead\n",
    "def eliminateDuplicates(head):\n",
    "    prev=head\n",
    "    curr=head.next\n",
    "    while curr is not None:\n",
    "        if (prev.data==curr.data):\n",
    "            while(curr.next is not None and prev.data==curr.data):\n",
    "                curr=curr.next\n",
    "            if curr.next is not None:\n",
    "                prev.next=curr\n",
    "                prev=curr\n",
    "                curr=curr.next\n",
    "            else:\n",
    "                prev.next=None\n",
    "                return head\n",
    "        else:\n",
    "            prev=curr\n",
    "            curr=curr.next\n",
    "    return head\n",
    "def reverseLinkedList(head):\n",
    "    tail=head\n",
    "    prev=None\n",
    "    while tail is not None:\n",
    "        nextElement=tail.next\n",
    "        tail.next=prev\n",
    "        prev=tail\n",
    "        tail=nextElement\n",
    "    return prev\n",
    "def checkPalindromeLinkedList(head):\n",
    "    length=lengthRecursively(head)\n",
    "    middle=length//2\n",
    "    curr=head\n",
    "    i=0\n",
    "    while i<middle:\n",
    "        curr=curr.next\n",
    "        i+=1\n",
    "    newHead=curr.next\n",
    "    curr.next=None\n",
    "    newHead=reverseLinkedList(newHead)\n",
    "    while (newHead is not None and head is not None):\n",
    "        if (newHead.data!=head.data):\n",
    "            return False\n",
    "        newHead=newHead.next\n",
    "        head=head.next\n",
    "    return True\n",
    "def reverseLLRecursively(head):\n",
    "    if head.next is None:\n",
    "        return head\n",
    "    smallOutputHead=reverseLLRecursively(head.next)\n",
    "    curr=smallOutputHead\n",
    "    while curr.next is not None:\n",
    "        curr=curr.next\n",
    "    curr.next=head\n",
    "    head.next=None\n",
    "    return smallOutputHead\n",
    "def findElementRecursively(head,x):\n",
    "    if head is None :\n",
    "        return -1\n",
    "    smallOutput=findElementRecursively(head.next,x)\n",
    "    if (smallOutput!=-1):\n",
    "        return smallOutput+1\n",
    "    elif(head.data==x):\n",
    "        return 0\n",
    "    return smallOutput\n",
    "def evenAfterOdd(head):\n",
    "    evenHead=None\n",
    "    evenCurr=None\n",
    "    oddHead=None\n",
    "    oddCurr=None\n",
    "    curr=head\n",
    "    while curr is not None:\n",
    "        if (curr.data%2==0):\n",
    "            if (evenHead is None):\n",
    "                evenHead=curr\n",
    "                evenCurr=evenHead\n",
    "            else:\n",
    "                evenCurr.next=curr\n",
    "                evenCurr=curr\n",
    "        else:\n",
    "            if(oddHead is None):\n",
    "                oddHead=curr\n",
    "                oddCurr=oddHead\n",
    "            else:\n",
    "                oddCurr.next=curr\n",
    "                oddCurr=curr\n",
    "        curr=curr.next\n",
    "    evenCurr.next=None\n",
    "    oddCurr.next=evenHead\n",
    "    return oddHead\n",
    "def deleteNAfterM(head,m,n):\n",
    "    curr=head\n",
    "    prev=None\n",
    "    while curr is not None:\n",
    "        i=0\n",
    "        while(curr.next is not None and i<m):\n",
    "            #print('hi')\n",
    "            prev=curr\n",
    "            curr=curr.next\n",
    "            i+=1\n",
    "        j=0\n",
    "        while(curr.next is not None and j<n):\n",
    "            #print('hi')\n",
    "            curr=curr.next\n",
    "            j+=1\n",
    "        prev.next=curr\n",
    "        if curr.next is None:\n",
    "            if j<n:\n",
    "                prev.next=None\n",
    "            break\n",
    "    return head\n",
    "def swapTwoNodes(head,n,m):\n",
    "    curr1=head\n",
    "    count=0\n",
    "    curr2=head\n",
    "    prev1=None\n",
    "    prev2=None\n",
    "    temp=head\n",
    "    while temp is not None:\n",
    "        if (count==n-1):\n",
    "            prev1=temp\n",
    "            curr1=temp.next\n",
    "        if (count==m-1):\n",
    "            prev2=temp\n",
    "            curr2=temp.next\n",
    "        count+=1\n",
    "        temp=temp.next\n",
    "    if prev1 is not None:\n",
    "        prev1.next=curr2\n",
    "        temp=curr1.next\n",
    "        curr1.next=curr2.next\n",
    "        curr2.next=temp\n",
    "        prev2.next=curr1\n",
    "    else:\n",
    "        head=curr2\n",
    "        temp=curr1.next\n",
    "        curr1.next=curr2.next\n",
    "        curr2.next=temp\n",
    "        prev2.next=curr1\n",
    "    return head\n",
    "head=takeInput()\n",
    "#findElement(head,1)\n",
    "#head=deleteNode(head,1)\n",
    "#head=deleteNodeRecursively(head,0,0)\n",
    "#head=lastNtoFirst(head,3)\n",
    "#head=eliminateDuplicates(head)\n",
    "#head = reverseLinkedList(head)\n",
    "#head=reverseLLRecursively(head)\n",
    "#print(findElementRecursively(head,5))\n",
    "#head=evenAfterOdd(head)\n",
    "#head=deleteNAfterM(head,2,2)\n",
    "#head=swapTwoNodes(head,0,2)\n",
    "printLL(head)\n",
    "#length=lengthRecursively(head)\n",
    "#print('length of the list is ',length)\n",
    "#length=lengthLL(head)\n",
    "#print('length is ',length)\n",
    "#printNodeAtPositionX(head,2)\n",
    "#print(checkPalindromeLinkedList(head))"
   ]
  },
  {
   "cell_type": "markdown",
   "metadata": {},
   "source": [
    "#### Binary Trees"
   ]
  },
  {
   "cell_type": "code",
   "execution_count": 75,
   "metadata": {},
   "outputs": [],
   "source": [
    "class BinaryTreeNode:\n",
    "    def __init__(self,data):\n",
    "        self.data=data\n",
    "        self.left=None\n",
    "        self.right=None"
   ]
  },
  {
   "cell_type": "code",
   "execution_count": 76,
   "metadata": {},
   "outputs": [
    {
     "name": "stdout",
     "output_type": "stream",
     "text": [
      "1\n",
      "2\n",
      "7\n",
      "-1\n",
      "-1\n",
      "9\n",
      "-1\n",
      "-1\n",
      "3\n",
      "10\n",
      "-1\n",
      "-1\n",
      "4\n",
      "-1\n",
      "-1\n"
     ]
    }
   ],
   "source": [
    "def takeInput():\n",
    "    element=int(input())\n",
    "    if (element is -1):\n",
    "        return None\n",
    "    root=BinaryTreeNode(element)\n",
    "    root.left=takeInput()\n",
    "    root.right=takeInput()\n",
    "    return root\n",
    "root=takeInput()"
   ]
  },
  {
   "cell_type": "code",
   "execution_count": 77,
   "metadata": {},
   "outputs": [
    {
     "name": "stdout",
     "output_type": "stream",
     "text": [
      "1:L 2,R 3\n",
      "2:L 7,R 9\n",
      "7:\n",
      "9:\n",
      "3:L 10,R 4\n",
      "10:\n",
      "4:\n"
     ]
    }
   ],
   "source": [
    "def printTree(root):\n",
    "    if (root is None):\n",
    "        return\n",
    "    print(root.data,end=':')\n",
    "    if (root.left is not None):\n",
    "        print('L',root.left.data,end=',')\n",
    "    if (root.right is not None):\n",
    "        print('R',root.right.data,end='')\n",
    "    print()\n",
    "    printTree(root.left)\n",
    "    printTree(root.right)\n",
    "    return\n",
    "printTree(root)"
   ]
  },
  {
   "cell_type": "code",
   "execution_count": 10,
   "metadata": {},
   "outputs": [
    {
     "name": "stdout",
     "output_type": "stream",
     "text": [
      "Number of Nodes in the tree is  3\n"
     ]
    }
   ],
   "source": [
    "def numberOfNodes(root):\n",
    "    if (root is None):\n",
    "        return 0\n",
    "    leftNodes=numberOfNodes(root.left)\n",
    "    rightNodes=numberOfNodes(root.right)\n",
    "    return 1+leftNodes+rightNodes\n",
    "\n",
    "print('Number of Nodes in the tree is ',numberOfNodes(root))"
   ]
  },
  {
   "cell_type": "code",
   "execution_count": 12,
   "metadata": {},
   "outputs": [
    {
     "name": "stdout",
     "output_type": "stream",
     "text": [
      "Sum of the nodes in the binary tree is  6\n"
     ]
    }
   ],
   "source": [
    "def sumOfNodes(root):\n",
    "    if (root is None):\n",
    "        return 0\n",
    "    leftTreeSum=sumOfNodes(root.left)\n",
    "    rightTreeSum=sumOfNodes(root.right)\n",
    "    return root.data+leftTreeSum+rightTreeSum\n",
    "print('Sum of the nodes in the binary tree is ',sumOfNodes(root))"
   ]
  },
  {
   "cell_type": "code",
   "execution_count": 13,
   "metadata": {},
   "outputs": [
    {
     "name": "stdout",
     "output_type": "stream",
     "text": [
      "1\n",
      "2\n",
      "3\n"
     ]
    }
   ],
   "source": [
    "def preOrderTreeTraversal(root):\n",
    "    if (root is None):\n",
    "        return \n",
    "    print(root.data)\n",
    "    preOrderTreeTraversal(root.left)\n",
    "    preOrderTreeTraversal(root.right)\n",
    "    return\n",
    "preOrderTreeTraversal(root)"
   ]
  },
  {
   "cell_type": "code",
   "execution_count": 14,
   "metadata": {},
   "outputs": [
    {
     "name": "stdout",
     "output_type": "stream",
     "text": [
      "2\n",
      "1\n",
      "3\n"
     ]
    }
   ],
   "source": [
    "def InOrderTreeTraversal(root):\n",
    "    if (root is None):\n",
    "        return \n",
    "    InOrderTreeTraversal(root.left)\n",
    "    print(root.data)\n",
    "    InOrderTreeTraversal(root.right)\n",
    "    return\n",
    "InOrderTreeTraversal(root)"
   ]
  },
  {
   "cell_type": "code",
   "execution_count": 15,
   "metadata": {},
   "outputs": [
    {
     "name": "stdout",
     "output_type": "stream",
     "text": [
      "2\n",
      "3\n",
      "1\n"
     ]
    }
   ],
   "source": [
    "def PostOrderTreeTraversal(root):\n",
    "    if (root is None):\n",
    "        return \n",
    "    PostOrderTreeTraversal(root.left)\n",
    "    PostOrderTreeTraversal(root.right)\n",
    "    print(root.data)\n",
    "    return\n",
    "PostOrderTreeTraversal(root)"
   ]
  },
  {
   "cell_type": "code",
   "execution_count": 17,
   "metadata": {},
   "outputs": [
    {
     "data": {
      "text/plain": [
       "2"
      ]
     },
     "execution_count": 17,
     "metadata": {},
     "output_type": "execute_result"
    }
   ],
   "source": [
    "def NodesGreaterThanX(root,x):\n",
    "    if (root is None):\n",
    "        return 0\n",
    "    leftTreeNodes=NodesGreaterThanX(root.left,x)\n",
    "    rightTreeNodes=NodesGreaterThanX(root.right,x)\n",
    "    if (root.data>x):\n",
    "        return 1+leftTreeNodes+rightTreeNodes\n",
    "    return leftTreeNodes+rightTreeNodes\n",
    "NodesGreaterThanX(root,1)"
   ]
  },
  {
   "cell_type": "code",
   "execution_count": 18,
   "metadata": {},
   "outputs": [
    {
     "name": "stdout",
     "output_type": "stream",
     "text": [
      "Height of the binary tree is 2\n"
     ]
    }
   ],
   "source": [
    "def heightOfTree(root):\n",
    "    if (root is None):\n",
    "        return 0\n",
    "    leftSubTreeHeight=heightOfTree(root.left)\n",
    "    rightSubTreeHeight=heightOfTree(root.right)\n",
    "    if leftSubTreeHeight>rightSubTreeHeight:\n",
    "        return 1+leftSubTreeHeight\n",
    "    return 1+rightSubTreeHeight\n",
    "print('Height of the binary tree is',heightOfTree(root))"
   ]
  },
  {
   "cell_type": "code",
   "execution_count": 20,
   "metadata": {},
   "outputs": [
    {
     "name": "stdout",
     "output_type": "stream",
     "text": [
      "0:L 1,R 1\n",
      "1:\n",
      "1:\n"
     ]
    }
   ],
   "source": [
    "def replaceNodesWithDepth(root,count):\n",
    "    if (root is None):\n",
    "        return \n",
    "    root.data=count\n",
    "    replaceNodesWithDepth(root.left,count+1)\n",
    "    replaceNodesWithDepth(root.right,count+1)\n",
    "    return\n",
    "replaceNodesWithDepth(root,0)\n",
    "printTree(root)"
   ]
  },
  {
   "cell_type": "code",
   "execution_count": 24,
   "metadata": {},
   "outputs": [
    {
     "name": "stdout",
     "output_type": "stream",
     "text": [
      "True\n",
      "False\n"
     ]
    }
   ],
   "source": [
    "def checkNode(root,x):\n",
    "    if (root is None):\n",
    "        return False\n",
    "    leftTree=checkNode(root.left,x)\n",
    "    rightTree=checkNode(root.right,x)\n",
    "    if (leftTree or rightTree):\n",
    "        return True\n",
    "    elif(root.data==x):\n",
    "        return True\n",
    "    return False\n",
    "print(checkNode(root,1))\n",
    "print(checkNode(root,4))"
   ]
  },
  {
   "cell_type": "code",
   "execution_count": 27,
   "metadata": {},
   "outputs": [
    {
     "name": "stdout",
     "output_type": "stream",
     "text": [
      "1\n",
      "2\n",
      "-1\n",
      "-1\n",
      "-1\n",
      "2\n"
     ]
    }
   ],
   "source": [
    "#root=takeInput()\n",
    "def NodesWithoutSibling(root):\n",
    "    if (root is None):\n",
    "        return\n",
    "    if (root.left is not None and root.right is None):\n",
    "        print(root.left.data,end=' ')\n",
    "    elif (root.left is None and root.right is not None):\n",
    "        print(root.right.data,end=' ')\n",
    "    NodesWithoutSibling(root.left)\n",
    "    NodesWithoutSibling(root.right)\n",
    "    return\n",
    "NodesWithoutSibling(root)"
   ]
  },
  {
   "cell_type": "code",
   "execution_count": 30,
   "metadata": {},
   "outputs": [
    {
     "name": "stdout",
     "output_type": "stream",
     "text": [
      "The number of Leaf Nodes in the tree is  2\n"
     ]
    }
   ],
   "source": [
    "def NumberOfLeafNodes(root):\n",
    "    if (root is None):\n",
    "        return 0\n",
    "    leftLeafNodes=NumberOfLeafNodes(root.left)\n",
    "    rightLeafNodes=NumberOfLeafNodes(root.right)\n",
    "    if (root.left is None and root.right is None):\n",
    "        return 1+rightLeafNodes+leftLeafNodes\n",
    "    return leftLeafNodes+rightLeafNodes\n",
    "print('The number of Leaf Nodes in the tree is ',NumberOfLeafNodes(root))"
   ]
  },
  {
   "cell_type": "code",
   "execution_count": 31,
   "metadata": {},
   "outputs": [
    {
     "name": "stdout",
     "output_type": "stream",
     "text": [
      "2 3 "
     ]
    }
   ],
   "source": [
    "def printNodesAtDepthK(root,depth,count):\n",
    "    if (root is None):\n",
    "        return \n",
    "    if (count==depth):\n",
    "        print(root.data,end=' ')\n",
    "    printNodesAtDepthK(root.left,depth,count+1)\n",
    "    printNodesAtDepthK(root.right,depth,count+1)\n",
    "    return\n",
    "printNodesAtDepthK(root,1,0)"
   ]
  },
  {
   "cell_type": "code",
   "execution_count": null,
   "metadata": {},
   "outputs": [],
   "source": [
    "def NodeWithLargestData(root):\n",
    "    if (root is None):\n",
    "        return -1\n",
    "    leftSubtree=NodeWithLargestdata(root.left)\n",
    "    rightSubtree=NodeWithLargestData(root.right)\n",
    "    if (leftSubtree>rightSubtree):\n",
    "        if (leftSubTree<root.data):\n",
    "            return root.data\n",
    "        return leftSubtree\n",
    "    else:\n",
    "        if (rightSubtree<root.data):\n",
    "            return root.data\n",
    "        return "
   ]
  },
  {
   "cell_type": "code",
   "execution_count": 13,
   "metadata": {},
   "outputs": [
    {
     "name": "stdout",
     "output_type": "stream",
     "text": [
      "*\n",
      "2\n",
      "0\n",
      "0\n",
      "3\n",
      "0\n",
      "0\n"
     ]
    }
   ],
   "source": [
    "def takeInput():\n",
    "    element=input()\n",
    "    if (element is '0'):\n",
    "        return None\n",
    "    root=BinaryTreeNode(element)\n",
    "    root.left=takeInput()\n",
    "    root.right=takeInput()\n",
    "    return root\n",
    "root=takeInput()"
   ]
  },
  {
   "cell_type": "code",
   "execution_count": 14,
   "metadata": {},
   "outputs": [
    {
     "name": "stdout",
     "output_type": "stream",
     "text": [
      "6\n"
     ]
    }
   ],
   "source": [
    "def expressionTree(root):\n",
    "    \n",
    "    if root is None:\n",
    "        \n",
    "        return 0\n",
    "    \n",
    "    leftTree=expressionTree(root.left)\n",
    "    \n",
    "    rightTree=expressionTree(root.right)\n",
    "    \n",
    "    if root.data is '*':\n",
    "        return int(root.left.data)*int(root.right.data)\n",
    "    \n",
    "    elif root.data is '+':\n",
    "        return int(root.left.data)+int(root.right.data)\n",
    "    \n",
    "    elif root.data is '-':\n",
    "        return int(root.left.data)-int(root.right.data)\n",
    "    \n",
    "    elif root.data is '/':\n",
    "        return int(root.left.data)/int(root.right.data)\n",
    "    \n",
    "    else :\n",
    "        return int(root.data)\n",
    "    \n",
    "print(expressionTree(root))"
   ]
  },
  {
   "cell_type": "code",
   "execution_count": 83,
   "metadata": {},
   "outputs": [
    {
     "name": "stdout",
     "output_type": "stream",
     "text": [
      "1\n",
      "2\n",
      "-1\n",
      "-1\n",
      "3\n",
      "-1\n",
      "-1\n",
      "1:L 3,R 2\n",
      "3:\n",
      "2:\n"
     ]
    }
   ],
   "source": [
    "root=takeInput()\n",
    "def mirrorBinaryTree(root):\n",
    "    if root is None:\n",
    "        return None\n",
    "    leftMirror=mirrorBinaryTree(root.left)\n",
    "    rightMirror=mirrorBinaryTree(root.right)\n",
    "    root.left=rightMirror\n",
    "    root.right=leftMirror\n",
    "    return root\n",
    "root=mirrorBinaryTree(root)\n",
    "printTree(root)"
   ]
  },
  {
   "cell_type": "code",
   "execution_count": 84,
   "metadata": {},
   "outputs": [
    {
     "name": "stdout",
     "output_type": "stream",
     "text": [
      "1:L 1,R 2\n",
      "1:L 3,R 2\n",
      "3:L 3,\n",
      "3:\n",
      "2:L 2,\n",
      "2:\n",
      "2:L 2,\n",
      "2:\n"
     ]
    }
   ],
   "source": [
    "def insertDuplicates(root):\n",
    "    if root is None:\n",
    "        return None\n",
    "    leftTree=insertDuplicates(root.left)\n",
    "    rightTree=insertDuplicates(root.right)\n",
    "    root.right=rightTree\n",
    "    newNode=BinaryTreeNode(root.data)\n",
    "    root.left=newNode\n",
    "    newNode.left=leftTree\n",
    "    newNode.right=rightTree\n",
    "    return root\n",
    "root=insertDuplicates(root)\n",
    "printTree(root)"
   ]
  },
  {
   "cell_type": "code",
   "execution_count": 85,
   "metadata": {},
   "outputs": [
    {
     "name": "stdout",
     "output_type": "stream",
     "text": [
      "(1, 3)\n"
     ]
    }
   ],
   "source": [
    "def minAndMax(root):\n",
    "    if root is None:\n",
    "        return 100000,-100000\n",
    "    minLeft,maxLeft=minAndMax(root.left)\n",
    "    minRight,maxRight=minAndMax(root.right)\n",
    "    if maxLeft>maxRight:\n",
    "        if root.data>maxLeft:\n",
    "            maxValue=root.data\n",
    "        else:\n",
    "            maxValue=maxLeft\n",
    "    else:\n",
    "        if root.data>maxRight:\n",
    "            maxValue=root.data\n",
    "        else:\n",
    "            maxValue=maxRight\n",
    "    if minLeft<minRight:\n",
    "        if root.data<minLeft:\n",
    "            minValue=root.data\n",
    "        else:\n",
    "            minValue=minLeft\n",
    "    else:\n",
    "        if root.data<minRight:\n",
    "            minValue=root.data\n",
    "        else:\n",
    "            minValue=minRight\n",
    "    return minValue,maxValue\n",
    "print(minAndMax(root))"
   ]
  },
  {
   "cell_type": "code",
   "execution_count": 87,
   "metadata": {},
   "outputs": [
    {
     "name": "stdout",
     "output_type": "stream",
     "text": [
      "1\n",
      "2\n",
      "-1\n",
      "-1\n",
      "3\n",
      "-1\n",
      "-1\n",
      "1\n",
      "2\n",
      "3\n"
     ]
    }
   ],
   "source": [
    "import queue\n",
    "root=takeInput()\n",
    "def levelOrderTraversal(root):\n",
    "    q=queue.Queue()\n",
    "    q.put(root)\n",
    "    while not q.empty():\n",
    "        element=q.get()\n",
    "        if element.left!=None:\n",
    "            q.put(element.left)\n",
    "        if element.right!=None:\n",
    "            q.put(element.right)\n",
    "        print(element.data)\n",
    "levelOrderTraversal(root)"
   ]
  },
  {
   "cell_type": "code",
   "execution_count": 99,
   "metadata": {},
   "outputs": [
    {
     "name": "stdout",
     "output_type": "stream",
     "text": [
      "5 6 2 \n",
      "5 7 1 \n"
     ]
    }
   ],
   "source": [
    "#root=takeInput()\n",
    "def pathSum(root,k,arr):\n",
    "    if root is None:\n",
    "        if k is 0:\n",
    "            for i in range(len(arr)):\n",
    "                print(arr[i],end=' ')\n",
    "            print()\n",
    "            return\n",
    "        else:\n",
    "            return \n",
    "    arr.append(root.data)\n",
    "    pathSum(root.left,k-root.data,arr)\n",
    "    if k-root.data is 0:\n",
    "        arr.pop()\n",
    "        return\n",
    "    pathSum(root.right,k-root.data,arr)\n",
    "    arr.pop()\n",
    "    return\n",
    "printTree\n",
    "pathSum(root,13,[])"
   ]
  },
  {
   "cell_type": "markdown",
   "metadata": {},
   "source": [
    "#### Stack"
   ]
  },
  {
   "cell_type": "code",
   "execution_count": 2,
   "metadata": {},
   "outputs": [
    {
     "name": "stdout",
     "output_type": "stream",
     "text": [
      "15\n",
      "10\n",
      "True\n"
     ]
    }
   ],
   "source": [
    "class Stack:\n",
    "    \n",
    "    def __init__(self):\n",
    "        self.__arr=list()\n",
    "    def push(self,item):\n",
    "        self.__arr.append(item)\n",
    "    def pop(self):\n",
    "        if self.isEmpty():\n",
    "            return\n",
    "        return self.__arr.pop()\n",
    "    def top(self):\n",
    "        if self.isEmpty():\n",
    "            return\n",
    "        return self.__arr[len(self.__arr)-1]\n",
    "    def isEmpty(self):\n",
    "        if len(self.__arr)==0:\n",
    "            return True\n",
    "        else:\n",
    "            return False\n",
    "    def size(self):\n",
    "        return len(self.__arr)\n",
    "    \n",
    "S=Stack()\n",
    "S.push(10)\n",
    "S.push(15)\n",
    "print(S.pop())\n",
    "print(S.pop())\n",
    "print(S.isEmpty())"
   ]
  },
  {
   "cell_type": "markdown",
   "metadata": {},
   "source": [
    "#### Queue"
   ]
  },
  {
   "cell_type": "code",
   "execution_count": 6,
   "metadata": {},
   "outputs": [
    {
     "name": "stdout",
     "output_type": "stream",
     "text": [
      "4\n",
      "3\n",
      "True\n",
      "0\n"
     ]
    }
   ],
   "source": [
    "##Queue\n",
    "class Queue:\n",
    "    \n",
    "    def __init__(self):\n",
    "        self.__arr=list()\n",
    "        self.__count=0\n",
    "        self.__pointer=0\n",
    "    def enqueue(self,data):\n",
    "        self.__arr.append(data)\n",
    "        self.__count+=1\n",
    "    def dequeue(self):\n",
    "        if self.__count!=0:\n",
    "            ele=self.__arr[self.__pointer]\n",
    "            self.__pointer+=1\n",
    "            self.__count-=1\n",
    "            return ele\n",
    "        else:\n",
    "            return 'Queue is empty'\n",
    "    def length(self):\n",
    "        return self.__count\n",
    "    def isEmpty(self):\n",
    "        return self.__count==0\n",
    "q=Queue()\n",
    "q.enqueue(4)\n",
    "q.enqueue(3)\n",
    "print(q.dequeue())\n",
    "print(q.dequeue())\n",
    "print(q.isEmpty())\n",
    "print(q.length())"
   ]
  },
  {
   "cell_type": "markdown",
   "metadata": {},
   "source": [
    "### HashMap"
   ]
  },
  {
   "cell_type": "code",
   "execution_count": 7,
   "metadata": {},
   "outputs": [
    {
     "name": "stdout",
     "output_type": "stream",
     "text": [
      "0.1\n",
      "0.2\n",
      "0.3\n",
      "0.4\n",
      "0.5\n",
      "0.6\n",
      "0.35\n",
      "0.4\n",
      "0.45\n",
      "0.5\n"
     ]
    }
   ],
   "source": [
    "class mapNode:\n",
    "    def __init__(self,key,value):\n",
    "        self.key=key\n",
    "        self.value=value\n",
    "        self.next=None\n",
    "class hashMap:\n",
    "    def __init__(self):\n",
    "        self.bucketsize=10\n",
    "        self.bucket=[None for i in range(self.bucketsize)]\n",
    "        self.count=0\n",
    "    def getIndex(self,hc):\n",
    "        return (abs(hc))%self.bucketsize\n",
    "    def getLoad(self):\n",
    "        return self.count/self.bucketsize\n",
    "    def rehash(self):\n",
    "        temp=self.bucket\n",
    "        self.bucketsize=self.bucketsize*2\n",
    "        self.bucket=[None for i in range(self.bucketsize)]\n",
    "        self.count=0\n",
    "        for head in temp:\n",
    "            while head is not None:\n",
    "                self.insert(head.key,head.value)\n",
    "                head=head.next\n",
    "    def insert(self,key,value):\n",
    "        hc=hash(key)\n",
    "        index=self.getIndex(hc)\n",
    "        node=mapNode(key,value)\n",
    "        head=self.bucket[index]\n",
    "        while head is not None:\n",
    "            if head.key==key:\n",
    "                head.value=value\n",
    "                return\n",
    "            head=head.next\n",
    "        head=self.bucket[index]\n",
    "        node.next=head\n",
    "        self.bucket[index]=node\n",
    "        self.count+=1\n",
    "        loadfactor=self.count/self.bucketsize\n",
    "        if loadfactor>=0.7:\n",
    "            self.rehash()\n",
    "    def search(self,key):\n",
    "        hc=hash(key)\n",
    "        index=self.getIndex(hc)\n",
    "        head=self.bucket[index]\n",
    "        while head is not None:\n",
    "            if head.key==key:\n",
    "                return head.value\n",
    "        return None\n",
    "    def remove(self,key):\n",
    "        hc=hash(key)\n",
    "        index=self.getIndex(hc)\n",
    "        head=self.bucket[index]\n",
    "        prev=None\n",
    "        while head is not None:\n",
    "            if head.key==key:\n",
    "                if prev is None:\n",
    "                    self.bucket[index]=head.next\n",
    "                else:\n",
    "                    prev.next=head.next\n",
    "                self.count-=1\n",
    "                prev=head\n",
    "                head=head.next\n",
    "        return None\n",
    "    def size(self):\n",
    "        return self.count\n",
    "h=hashMap()\n",
    "for i in range(10):\n",
    "    h.insert('abc'+str(i),i+1)\n",
    "    print(h.getLoad())"
   ]
  },
  {
   "cell_type": "markdown",
   "metadata": {},
   "source": [
    "#### Priority Queue/Heap"
   ]
  },
  {
   "cell_type": "code",
   "execution_count": 9,
   "metadata": {},
   "outputs": [
    {
     "name": "stdout",
     "output_type": "stream",
     "text": [
      "D\n",
      "C\n",
      "B\n",
      "A\n"
     ]
    }
   ],
   "source": [
    "class PriorityQueueNode:\n",
    "    def __init__(self,ele,priority):\n",
    "        self.ele=ele\n",
    "        self.priority=priority\n",
    "class PriorityQueue:\n",
    "    def __init__(self):\n",
    "        self.pq=list()\n",
    "    def isEmpty(self):\n",
    "        return self.getSize==0\n",
    "    \n",
    "    def getSize(self):\n",
    "        return len(self.pq)\n",
    "\n",
    "    def getMax(self):\n",
    "        if self.isEmpty():\n",
    "            return None\n",
    "        return self.pq[0].ele\n",
    "      \n",
    "    def insert(self,ele,priority):\n",
    "        node=PriorityQueueNode(ele,priority)\n",
    "        self.pq.append(node)\n",
    "        child=len(self.pq)-1\n",
    "        while child>0:\n",
    "            parent=(child-1)//2\n",
    "            #print(self.pq[parent].priority,self.pq[child].priority)\n",
    "            if self.pq[parent].priority<self.pq[child].priority:\n",
    "                #print(parent,child,self.pq[parent].priority,self.pq[child].priority)\n",
    "                self.pq[parent],self.pq[child]=self.pq[child],self.pq[parent]\n",
    "            else:\n",
    "                break\n",
    "            child=parent\n",
    "        #print(self.pq[len(self.pq)-1].ele)\n",
    "    def removeMax(self):\n",
    "        if self.isEmpty():\n",
    "            return None\n",
    "        temp=self.pq[0]\n",
    "        self.pq[0]=self.pq[len(self.pq)-1]\n",
    "        self.pq.pop()\n",
    "        parent=0\n",
    "        lci=2*parent+1\n",
    "        rci=2*parent+2\n",
    "        maxIndex=0\n",
    "        while lci<len(self.pq):\n",
    "            maxIndex=parent\n",
    "            if self.pq[lci].priority>self.pq[maxIndex].priority:\n",
    "                maxIndex=lci\n",
    "            if rci<len(self.pq) and self.pq[rci].priority>self.pq[maxIndex].priority:\n",
    "                maxIndex=rci\n",
    "            if maxIndex==parent:\n",
    "                break\n",
    "            self.pq[parent],self.pq[maxIndex]=self.pq[maxIndex],self.pq[parent]\n",
    "            parent=maxIndex\n",
    "            lci=parent*2+1\n",
    "            rci=parent*2+2\n",
    "        return temp.ele\n",
    "        \n",
    "myPq = PriorityQueue()\n",
    "myPq.insert('A',6)\n",
    "#print(myPq.getMax())\n",
    "myPq.insert('B',7)\n",
    "#print(myPq.getMax())\n",
    "myPq.insert('C',8)\n",
    "#print(myPq.getMax())\n",
    "myPq.insert('D',9)\n",
    "#print(myPq.getMax())\n",
    "for i in range(4):\n",
    "    print(myPq.removeMax())"
   ]
  },
  {
   "cell_type": "markdown",
   "metadata": {},
   "source": [
    "#### HUFFMAN CODING"
   ]
  },
  {
   "cell_type": "code",
   "execution_count": 12,
   "metadata": {},
   "outputs": [
    {
     "data": {
      "text/plain": [
       "\"pathname='/Users/puravshah/Downloads/huffman.txt'\\nh=HuffmanCoding(pathname)\\noutputpath=h.compress()\\nh.decompress(outputpath)\""
      ]
     },
     "execution_count": 12,
     "metadata": {},
     "output_type": "execute_result"
    }
   ],
   "source": [
    "##Huffman Coding\n",
    "import os\n",
    "class binaryTreeNode:\n",
    "    def __init__(self,value,freq):\n",
    "        self.value=value\n",
    "        self.freq=freq\n",
    "    def __lt__(self,other):\n",
    "        return self.freq<other.freq\n",
    "    def __eq__(self,other):\n",
    "        return self.freq==other.freq\n",
    "class HuffmanCoding:\n",
    "    \n",
    "    def __init__(self,path):\n",
    "        self.path=path\n",
    "        self.__heap=[]\n",
    "        self.__codes={}\n",
    "        self.__reversecodes={}\n",
    "    def __make_freq_dict(self,text):\n",
    "        freq_dict={}\n",
    "        for char in text:\n",
    "            freq_dict[char]=freq_dict.get(char,0)+1\n",
    "        return freq_dict\n",
    "    def __buildheap(self,freq_dict):\n",
    "        for key in freq_dict:\n",
    "            freq=freq_dict[key]\n",
    "            node=binaryTreeNode(key,freq)\n",
    "            heapq.heappush(self.__heap,node)\n",
    "    def __buildtree(self):\n",
    "        while len(self.__heap)>1:\n",
    "            node1=heapq.heappop(self.__heap)\n",
    "            node2=heapq.heappop(self.__heap)\n",
    "            newNodeFreq=node1.freq+node2.freq\n",
    "            newNode=binaryTreeNode(None,newNodeFreq)\n",
    "            newNode.left=node1\n",
    "            newNode.right=node2\n",
    "            heapq.heappush(self.__heap,newNode)\n",
    "    def __buildtreehelper(self,root,currVal):\n",
    "        if root is None:\n",
    "            return\n",
    "        if root.value is not None:\n",
    "            self.__codes[root.value]=currVal\n",
    "            self.__reversecodes[currVal]=root.value\n",
    "            return\n",
    "        self.__buildtreehelper(root.left,currVal+'0')\n",
    "        self.__buildtreehelper(root.right,currVal+'1')\n",
    "    def __buildcodes(self):\n",
    "        root=heapq.heappop(self.__heap)\n",
    "        self.__buildtreehelper(root,'')\n",
    "    def __encodedText(self,text):\n",
    "        encodedText=''\n",
    "        for char in text:\n",
    "            encodedText+=self.__codes[char]\n",
    "        return encodedText\n",
    "    def __getpaddedencodedtext(self,encodedText):\n",
    "        \n",
    "        paddingAmount=8-(len(encodedText)%8)\n",
    "        \n",
    "        for i in range(paddingAmount):\n",
    "            encodedText+='0'\n",
    "            \n",
    "        paddingAmountBinary='{0:08b}'.format(paddingAmount)\n",
    "        return paddingAmountBinary+encodedText\n",
    "    def __getbytesarray(self,paddedEncodedText):\n",
    "        arr=[]\n",
    "        for i in range(0,len(paddedEncodedText),8):\n",
    "            bytes_rep=paddedEncodedText[i:i+8]\n",
    "            arr.append(int(bytes_rep,2))\n",
    "        return arr\n",
    "            \n",
    "    def compress(self):\n",
    "        filename,filetext=os.path.splitext(self.path)\n",
    "        outputpath=filename+'.bin'\n",
    "        with open(self.path,'r+') as file,open(outputpath,'wb') as output:\n",
    "            text=file.read()\n",
    "            text=text.rstrip()\n",
    "            #text='asasddfggj'\n",
    "            freq_dict=self.__make_freq_dict(text)\n",
    "            self.__buildheap(freq_dict)\n",
    "            self.__buildtree()\n",
    "            self.__buildcodes()\n",
    "            encodedText=self.__encodedText(text)\n",
    "            paddedEncodedText=self.__getpaddedencodedtext(encodedText)\n",
    "            bytes_array=self.__getbytesarray(paddedEncodedText)\n",
    "            final_bytes=bytes(bytes_array)\n",
    "            output.write(final_bytes)\n",
    "        print('Compressed')\n",
    "        return outputpath\n",
    "    def __removeextrapadding(self,text):\n",
    "        padded_amount=text[:8]\n",
    "        padded_amount=int(padded_amount,2)\n",
    "        text=text[8:]\n",
    "        return text[:-1*padded_amount]\n",
    "    def __decodeText(self,originalText):\n",
    "        string=''\n",
    "        decodedText=''\n",
    "        for char in originalText:\n",
    "            string+=char\n",
    "            if string in self.__reversecodes:\n",
    "                decodedText+=self.__reversecodes[string]\n",
    "                string=''\n",
    "        return decodedText\n",
    "                \n",
    "    def decompress(self,input_path):\n",
    "        filename,filepath=os.path.splitext(self.path)\n",
    "        outputpath=filename+'_decompressed'+'.txt'\n",
    "        with open(input_path,'rb') as file,open(outputpath,'w') as output:\n",
    "            bits=''\n",
    "            byte=file.read(1)\n",
    "            while byte:\n",
    "                integer=ord(byte)\n",
    "                binary=bin(integer)[2:].rjust(8,'0')\n",
    "                bits+=binary\n",
    "                byte=file.read(1)\n",
    "            originalText=self.__removeextrapadding(bits)\n",
    "            decompressedText=self.__decodeText(originalText)\n",
    "            output.write(decompressedText)\n",
    "        print('Decompressed')\n",
    "        return\n",
    "        \n",
    "'''pathname='/Users/puravshah/Downloads/huffman.txt'\n",
    "h=HuffmanCoding(pathname)\n",
    "outputpath=h.compress()\n",
    "h.decompress(outputpath)'''"
   ]
  },
  {
   "cell_type": "code",
   "execution_count": null,
   "metadata": {},
   "outputs": [],
   "source": []
  }
 ],
 "metadata": {
  "kernelspec": {
   "display_name": "Python 3",
   "language": "python",
   "name": "python3"
  },
  "language_info": {
   "codemirror_mode": {
    "name": "ipython",
    "version": 3
   },
   "file_extension": ".py",
   "mimetype": "text/x-python",
   "name": "python",
   "nbconvert_exporter": "python",
   "pygments_lexer": "ipython3",
   "version": "3.6.5"
  }
 },
 "nbformat": 4,
 "nbformat_minor": 2
}
